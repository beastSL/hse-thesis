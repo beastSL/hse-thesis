{
 "cells": [
  {
   "cell_type": "code",
   "execution_count": 5,
   "metadata": {},
   "outputs": [],
   "source": [
    "import pandas as pd\n",
    "import numpy as np\n",
    "from sklearn.metrics import f1_score\n",
    "from crowdkit.aggregation import Wawa\n",
    "from sklearn.model_selection import train_test_split"
   ]
  },
  {
   "cell_type": "code",
   "execution_count": 6,
   "metadata": {},
   "outputs": [],
   "source": [
    "def get_mv_or_median(x):\n",
    "    vc = x.value_counts()\n",
    "    if vc.values[0] == 1:\n",
    "        return int(np.median(x))\n",
    "    else:\n",
    "        return int(vc.index[0])"
   ]
  },
  {
   "cell_type": "code",
   "execution_count": 62,
   "metadata": {},
   "outputs": [],
   "source": [
    "def get_wawa_score(scores):\n",
    "    return Wawa().fit_predict(scores)"
   ]
  },
  {
   "cell_type": "code",
   "execution_count": 8,
   "metadata": {},
   "outputs": [],
   "source": [
    "def print_unaligned_workers(scores_path, threshold=0.35):\n",
    "    toloka_markup = pd.read_csv(scores_path, sep='\\t').drop([\"GOLDEN:is_subjective\", \"HINT:text\", \"HINT:default_language\"], axis=1)\n",
    "    toloka_markup['OUTPUT:is_subjective'].replace({2: 1, 3: 2, 4: 3, 5: 3}, inplace=True)\n",
    "\n",
    "    wawa_score = get_wawa_score(toloka_markup)\n",
    "\n",
    "    worker_ids = toloka_markup.value_counts(\"ASSIGNMENT:worker_id\").index\n",
    "    worker_f1s = []\n",
    "    for worker_id in worker_ids:\n",
    "        worker_scores = toloka_markup[toloka_markup['ASSIGNMENT:worker_id'] == worker_id][['ASSIGNMENT:task_id', 'OUTPUT:is_subjective']]\n",
    "        worker_scores = worker_scores.set_index('ASSIGNMENT:task_id')\n",
    "        worker_scores['wawa'] = wawa_score[wawa_score.index.isin(worker_scores.index)]\n",
    "        worker_f1s.append(f1_score(worker_scores['wawa'], worker_scores['OUTPUT:is_subjective'], average='macro'))\n",
    "    wawa_worker_ratings = pd.Series(data=worker_f1s, index=worker_ids)\n",
    "    return wawa_worker_ratings[wawa_worker_ratings < 0.35]"
   ]
  },
  {
   "cell_type": "code",
   "execution_count": 9,
   "metadata": {},
   "outputs": [],
   "source": [
    "def print_label_distribution(scores_path):\n",
    "    toloka_markup = pd.read_csv(scores_path, sep='\\t').drop([\"GOLDEN:is_subjective\", \"HINT:text\", \"HINT:default_language\"], axis=1)\n",
    "    toloka_markup['OUTPUT:is_subjective'].replace({2: 1, 3: 2, 4: 3, 5: 3}, inplace=True)\n",
    "\n",
    "    wawa_score = get_wawa_score(toloka_markup)\n",
    "\n",
    "    vc = wawa_score.value_counts()\n",
    "    print(f\"Sentences with the 'Non-Applicable' label: {vc[0]}\")\n",
    "    print(f\"Sentences with the 'Objective' label: {vc[1]}\")\n",
    "    print(f\"Sentences with the 'Neutral' label: {vc[2]}\")\n",
    "    print(f\"Sentences with the 'Subjective' label: {vc[3]}\")"
   ]
  },
  {
   "cell_type": "code",
   "execution_count": 32,
   "metadata": {},
   "outputs": [],
   "source": [
    "def aggregate_scores(scores_path, sentence_id_retrieval_path):\n",
    "    toloka_markup = pd.read_csv(scores_path, sep='\\t').drop([\"GOLDEN:is_subjective\", \"HINT:text\", \"HINT:default_language\"], axis=1)\n",
    "    toloka_markup['OUTPUT:is_subjective'].replace({2: 1, 3: 2, 4: 3, 5: 3}, inplace=True)\n",
    "\n",
    "    sentence_ids_by_text = pd.read_csv(sentence_id_retrieval_path, sep='\\t').set_index(\"INPUT:text\")\n",
    "\n",
    "    wawa_score = get_wawa_score(toloka_markup)\n",
    "    \n",
    "    wawa_score_df = pd.DataFrame(wawa_score).rename(columns={\"agg_label\": \"score\"})\n",
    "    wawa_score_df = wawa_score_df.join(toloka_markup[[\"INPUT:text\", \"ASSIGNMENT:task_id\"]].drop_duplicates().set_index(\"ASSIGNMENT:task_id\"))\n",
    "    wawa_score_df[\"INPUT:text\"] = wawa_score_df[\"INPUT:text\"].str.replace(\"\\r\", \"\")\n",
    "    wawa_score_df = wawa_score_df.set_index(\"INPUT:text\").join(sentence_ids_by_text).reset_index().drop(\"INPUT:text\", axis=1)\n",
    "    wawa_score_df = wawa_score_df.groupby(by=\"sentence_id\")['score'].apply(list).reset_index().explode('score')\n",
    "\n",
    "    print(wawa_score_df.isna().value_counts()[False].item())\n",
    "    assert wawa_score_df.isna().value_counts()[False] == len(wawa_score_df)\n",
    "\n",
    "    return wawa_score_df"
   ]
  },
  {
   "cell_type": "code",
   "execution_count": 65,
   "metadata": {},
   "outputs": [],
   "source": [
    "def map_task_id_into_sentence_id(scores_path, sentence_id_retrieval_path):\n",
    "    toloka_markup = pd.read_csv(scores_path, sep='\\t')[['INPUT:text', 'OUTPUT:is_subjective', 'ASSIGNMENT:worker_id']]\n",
    "    toloka_markup[\"INPUT:text\"] = toloka_markup[\"INPUT:text\"].str.replace(\"\\r\", \"\")\n",
    "    toloka_markup = toloka_markup.rename(columns={\n",
    "        'INPUT:text': 'text',\n",
    "        'OUTPUT:is_subjective': 'label',\n",
    "        'ASSIGNMENT:worker_id' : 'worker'\n",
    "    }).set_index('text')\n",
    "    toloka_markup['label'].replace({2: 1, 3: 2, 4: 3, 5: 3}, inplace=True)\n",
    "    sentence_ids_by_text = pd.read_csv(sentence_id_retrieval_path, sep='\\t').set_index(\"INPUT:text\")\n",
    "    return toloka_markup.join(sentence_ids_by_text).reset_index(drop=True).rename(columns={'sentence_id': 'task'})"
   ]
  },
  {
   "cell_type": "code",
   "execution_count": 117,
   "metadata": {},
   "outputs": [],
   "source": [
    "def join_with_data_and_split(aggregated_scores, data_path):\n",
    "    data = aggregated_scores.join(pd.read_csv(data_path).set_index('sentence_id')).reset_index(drop=False).rename(columns={'index': 'sentence_id'})\n",
    "    print(data)\n",
    "    train_val, test = train_test_split(data, test_size=0.2, stratify=data['score'])\n",
    "    train, val = train_test_split(train_val, test_size=0.1, stratify=train_val['score'])\n",
    "    return train, val, test"
   ]
  },
  {
   "cell_type": "code",
   "execution_count": 19,
   "metadata": {},
   "outputs": [
    {
     "data": {
      "text/plain": [
       "Series([], dtype: float64)"
      ]
     },
     "execution_count": 19,
     "metadata": {},
     "output_type": "execute_result"
    }
   ],
   "source": [
    "print_unaligned_workers(\"testing_scores.tsv\")"
   ]
  },
  {
   "cell_type": "code",
   "execution_count": 20,
   "metadata": {},
   "outputs": [
    {
     "data": {
      "text/plain": [
       "Series([], dtype: float64)"
      ]
     },
     "execution_count": 20,
     "metadata": {},
     "output_type": "execute_result"
    }
   ],
   "source": [
    "print_unaligned_workers(\"full_scores.tsv\")"
   ]
  },
  {
   "cell_type": "code",
   "execution_count": 21,
   "metadata": {},
   "outputs": [
    {
     "name": "stdout",
     "output_type": "stream",
     "text": [
      "Sentences with the 'Non-Applicable' label: 15\n",
      "Sentences with the 'Objective' label: 52\n",
      "Sentences with the 'Neutral' label: 1\n",
      "Sentences with the 'Subjective' label: 89\n"
     ]
    }
   ],
   "source": [
    "print_label_distribution(\"testing_scores.tsv\")"
   ]
  },
  {
   "cell_type": "code",
   "execution_count": 22,
   "metadata": {},
   "outputs": [
    {
     "name": "stdout",
     "output_type": "stream",
     "text": [
      "Sentences with the 'Non-Applicable' label: 1236\n",
      "Sentences with the 'Objective' label: 14222\n",
      "Sentences with the 'Neutral' label: 388\n",
      "Sentences with the 'Subjective' label: 3861\n"
     ]
    }
   ],
   "source": [
    "print_label_distribution(\"full_scores.tsv\")"
   ]
  },
  {
   "cell_type": "code",
   "execution_count": 110,
   "metadata": {},
   "outputs": [],
   "source": [
    "sample_scores = pd.read_csv(\"sample_scores.csv\").replace({2: 1, 3: 2, 4: 3, 5: 3}).rename(columns={\n",
    "    'sentence_id': 'task',\n",
    "    'score': 'label'\n",
    "})\n",
    "sample_scores['worker'] = [1000] * len(sample_scores)\n",
    "testing_scores = map_task_id_into_sentence_id(\"testing_scores.tsv\", \"testing_dataset_for_retrieval.tsv\")\n",
    "full_scores = map_task_id_into_sentence_id(\"full_scores.tsv\", \"full_dataset_for_retrieval.tsv\")\n",
    "scores = pd.concat([sample_scores, testing_scores, full_scores]).set_index('task')\n",
    "scores = scores.join(pd.read_csv(\"sent_tokenized_dataset.csv\").set_index('sentence_id')).reset_index(drop=False)\n",
    "labels = scores.groupby(\"text\")['label'].apply(list)\n",
    "workers = scores.groupby(\"text\")['worker'].apply(list)\n",
    "labels_and_workers = list(map(lambda x : list(zip(x[0], x[1])), zip(labels, workers)))\n",
    "tasks = scores.groupby(\"text\")['index'].apply(lambda x : x.values[0]).to_frame().rename(columns={'index': 'task'})\n",
    "tasks['labels_and_workers'] = labels_and_workers\n",
    "tasks = tasks.explode('labels_and_workers')\n",
    "tasks['label'] = tasks['labels_and_workers'].apply(lambda x : x[0])\n",
    "tasks['worker'] = tasks['labels_and_workers'].apply(lambda x : x[1])\n",
    "tasks = tasks.drop('labels_and_workers', axis=1).reset_index(drop=False)"
   ]
  },
  {
   "cell_type": "code",
   "execution_count": 112,
   "metadata": {},
   "outputs": [
    {
     "data": {
      "text/html": [
       "<div>\n",
       "<style scoped>\n",
       "    .dataframe tbody tr th:only-of-type {\n",
       "        vertical-align: middle;\n",
       "    }\n",
       "\n",
       "    .dataframe tbody tr th {\n",
       "        vertical-align: top;\n",
       "    }\n",
       "\n",
       "    .dataframe thead th {\n",
       "        text-align: right;\n",
       "    }\n",
       "</style>\n",
       "<table border=\"1\" class=\"dataframe\">\n",
       "  <thead>\n",
       "    <tr style=\"text-align: right;\">\n",
       "      <th></th>\n",
       "      <th>text</th>\n",
       "      <th>task</th>\n",
       "      <th>label</th>\n",
       "      <th>worker</th>\n",
       "    </tr>\n",
       "  </thead>\n",
       "  <tbody>\n",
       "    <tr>\n",
       "      <th>49523</th>\n",
       "      <td>The leaders of Greece, Bulgaria, Romania and S...</td>\n",
       "      <td>0.0</td>\n",
       "      <td>1</td>\n",
       "      <td>1000</td>\n",
       "    </tr>\n",
       "    <tr>\n",
       "      <th>50831</th>\n",
       "      <td>The prospects of the Western Balkans joining t...</td>\n",
       "      <td>1.0</td>\n",
       "      <td>1</td>\n",
       "      <td>1000</td>\n",
       "    </tr>\n",
       "    <tr>\n",
       "      <th>50832</th>\n",
       "      <td>The prospects of the Western Balkans joining t...</td>\n",
       "      <td>1.0</td>\n",
       "      <td>1</td>\n",
       "      <td>1000</td>\n",
       "    </tr>\n",
       "    <tr>\n",
       "      <th>38269</th>\n",
       "      <td>Prime ministers Alexis Tsipras of Greece, Boyk...</td>\n",
       "      <td>2.0</td>\n",
       "      <td>1</td>\n",
       "      <td>1000</td>\n",
       "    </tr>\n",
       "    <tr>\n",
       "      <th>50974</th>\n",
       "      <td>The refugee crisis is also expected to be a to...</td>\n",
       "      <td>3.0</td>\n",
       "      <td>1</td>\n",
       "      <td>1000</td>\n",
       "    </tr>\n",
       "    <tr>\n",
       "      <th>...</th>\n",
       "      <td>...</td>\n",
       "      <td>...</td>\n",
       "      <td>...</td>\n",
       "      <td>...</td>\n",
       "    </tr>\n",
       "    <tr>\n",
       "      <th>18773</th>\n",
       "      <td>EPA-EFE/Pepo Herrera\\nCameroonian-born French ...</td>\n",
       "      <td>19951.0</td>\n",
       "      <td>1</td>\n",
       "      <td>1bf730b89d0a37c9bcf743dfa102f1e3</td>\n",
       "    </tr>\n",
       "    <tr>\n",
       "      <th>18774</th>\n",
       "      <td>EPA-EFE/Pepo Herrera\\nCameroonian-born French ...</td>\n",
       "      <td>19951.0</td>\n",
       "      <td>1</td>\n",
       "      <td>450fbacd15dba70760ea02ead77757c0</td>\n",
       "    </tr>\n",
       "    <tr>\n",
       "      <th>44055</th>\n",
       "      <td>The 25-year-old has signed a four-season deal ...</td>\n",
       "      <td>19952.0</td>\n",
       "      <td>1</td>\n",
       "      <td>450fbacd15dba70760ea02ead77757c0</td>\n",
       "    </tr>\n",
       "    <tr>\n",
       "      <th>44053</th>\n",
       "      <td>The 25-year-old has signed a four-season deal ...</td>\n",
       "      <td>19952.0</td>\n",
       "      <td>1</td>\n",
       "      <td>78c7a03ba686f83f7ee501772d05b75d</td>\n",
       "    </tr>\n",
       "    <tr>\n",
       "      <th>44054</th>\n",
       "      <td>The 25-year-old has signed a four-season deal ...</td>\n",
       "      <td>19952.0</td>\n",
       "      <td>1</td>\n",
       "      <td>1bf730b89d0a37c9bcf743dfa102f1e3</td>\n",
       "    </tr>\n",
       "  </tbody>\n",
       "</table>\n",
       "<p>65345 rows × 4 columns</p>\n",
       "</div>"
      ],
      "text/plain": [
       "                                                    text     task  label  \\\n",
       "49523  The leaders of Greece, Bulgaria, Romania and S...      0.0      1   \n",
       "50831  The prospects of the Western Balkans joining t...      1.0      1   \n",
       "50832  The prospects of the Western Balkans joining t...      1.0      1   \n",
       "38269  Prime ministers Alexis Tsipras of Greece, Boyk...      2.0      1   \n",
       "50974  The refugee crisis is also expected to be a to...      3.0      1   \n",
       "...                                                  ...      ...    ...   \n",
       "18773  EPA-EFE/Pepo Herrera\\nCameroonian-born French ...  19951.0      1   \n",
       "18774  EPA-EFE/Pepo Herrera\\nCameroonian-born French ...  19951.0      1   \n",
       "44055  The 25-year-old has signed a four-season deal ...  19952.0      1   \n",
       "44053  The 25-year-old has signed a four-season deal ...  19952.0      1   \n",
       "44054  The 25-year-old has signed a four-season deal ...  19952.0      1   \n",
       "\n",
       "                                 worker  \n",
       "49523                              1000  \n",
       "50831                              1000  \n",
       "50832                              1000  \n",
       "38269                              1000  \n",
       "50974                              1000  \n",
       "...                                 ...  \n",
       "18773  1bf730b89d0a37c9bcf743dfa102f1e3  \n",
       "18774  450fbacd15dba70760ea02ead77757c0  \n",
       "44055  450fbacd15dba70760ea02ead77757c0  \n",
       "44053  78c7a03ba686f83f7ee501772d05b75d  \n",
       "44054  1bf730b89d0a37c9bcf743dfa102f1e3  \n",
       "\n",
       "[65345 rows x 4 columns]"
      ]
     },
     "execution_count": 112,
     "metadata": {},
     "output_type": "execute_result"
    }
   ],
   "source": [
    "tasks.sort_values('task')"
   ]
  },
  {
   "cell_type": "code",
   "execution_count": 115,
   "metadata": {},
   "outputs": [
    {
     "data": {
      "text/plain": [
       "score\n",
       "1        13309\n",
       "3         3714\n",
       "0          953\n",
       "2          358\n",
       "dtype: int64"
      ]
     },
     "execution_count": 115,
     "metadata": {},
     "output_type": "execute_result"
    }
   ],
   "source": [
    "aggregated_scores = get_wawa_score(tasks).to_frame().rename(columns={\"agg_label\": \"score\"})\n",
    "aggregated_scores.value_counts()"
   ]
  },
  {
   "cell_type": "code",
   "execution_count": 118,
   "metadata": {},
   "outputs": [
    {
     "name": "stdout",
     "output_type": "stream",
     "text": [
      "          task  score                domain                 date  \\\n",
      "0          0.0      1  www.ekathimerini.com  2018-07-25 00:00:00   \n",
      "1          1.0      1  www.ekathimerini.com  2018-07-25 00:00:00   \n",
      "2          2.0      1  www.ekathimerini.com  2018-07-25 00:00:00   \n",
      "3          3.0      1  www.ekathimerini.com  2018-07-25 00:00:00   \n",
      "4          6.0      1  www.ekathimerini.com  2018-07-25 00:00:00   \n",
      "...        ...    ...                   ...                  ...   \n",
      "18329  19947.0      1           www.efe.com  2018-07-04 22:46:37   \n",
      "18330  19948.0      1           www.efe.com  2018-07-04 22:46:37   \n",
      "18331  19949.0      1           www.efe.com  2018-07-04 22:46:37   \n",
      "18332  19951.0      1           www.efe.com  2018-07-04 22:46:37   \n",
      "18333  19952.0      1           www.efe.com  2018-07-04 22:46:37   \n",
      "\n",
      "                                                    text  paper_id  \n",
      "0      The leaders of Greece, Bulgaria, Romania and S...    421969  \n",
      "1      The prospects of the Western Balkans joining t...    421969  \n",
      "2      Prime ministers Alexis Tsipras of Greece, Boyk...    421969  \n",
      "3      The refugee crisis is also expected to be a to...    421969  \n",
      "4      The meeting is also expected to help push a nu...    421969  \n",
      "...                                                  ...       ...  \n",
      "18329  Cameroonian-born French defensive midfielder I...    475880  \n",
      "18330  Amadou has signed a contract for the next four...    475880  \n",
      "18331  EPA-EFE/Pepo Herrera\\nSevilla FC President Jos...    475880  \n",
      "18332  EPA-EFE/Pepo Herrera\\nCameroonian-born French ...    475880  \n",
      "18333  The 25-year-old has signed a four-season deal ...    475880  \n",
      "\n",
      "[18334 rows x 6 columns]\n"
     ]
    }
   ],
   "source": [
    "train, val, test = join_with_data_and_split(aggregated_scores, 'sent_tokenized_dataset.csv')\n",
    "train.to_csv(\"../datasets/nsdc/train.csv\", index=False)\n",
    "val.to_csv(\"../datasets/nsdc/val.csv\", index=False)\n",
    "test.to_csv(\"../datasets/nsdc/test.csv\", index=False)"
   ]
  },
  {
   "cell_type": "code",
   "execution_count": 108,
   "metadata": {},
   "outputs": [],
   "source": [
    "data = pd.concat([train, val, test])\n",
    "assert len(data.drop_duplicates(['text']) == len(data))"
   ]
  },
  {
   "cell_type": "code",
   "execution_count": 121,
   "metadata": {},
   "outputs": [
    {
     "data": {
      "text/plain": [
       "task   score  domain  date   text   paper_id\n",
       "False  False  False   False  False  False       3667\n",
       "dtype: int64"
      ]
     },
     "execution_count": 121,
     "metadata": {},
     "output_type": "execute_result"
    }
   ],
   "source": [
    "test.isna().value_counts()"
   ]
  },
  {
   "cell_type": "code",
   "execution_count": null,
   "metadata": {},
   "outputs": [],
   "source": []
  }
 ],
 "metadata": {
  "kernelspec": {
   "display_name": "Python 3.10.8 64-bit",
   "language": "python",
   "name": "python3"
  },
  "language_info": {
   "codemirror_mode": {
    "name": "ipython",
    "version": 3
   },
   "file_extension": ".py",
   "mimetype": "text/x-python",
   "name": "python",
   "nbconvert_exporter": "python",
   "pygments_lexer": "ipython3",
   "version": "3.10.8"
  },
  "orig_nbformat": 4,
  "vscode": {
   "interpreter": {
    "hash": "aee8b7b246df8f9039afb4144a1f6fd8d2ca17a180786b69acc140d282b71a49"
   }
  }
 },
 "nbformat": 4,
 "nbformat_minor": 2
}
