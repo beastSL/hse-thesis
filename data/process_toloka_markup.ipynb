{
 "cells": [
  {
   "cell_type": "code",
   "execution_count": 27,
   "metadata": {},
   "outputs": [],
   "source": [
    "import pandas as pd\n",
    "import numpy as np\n",
    "from sklearn.metrics import f1_score\n",
    "from crowdkit.aggregation import Wawa\n",
    "from sklearn.model_selection import train_test_split"
   ]
  },
  {
   "cell_type": "code",
   "execution_count": 153,
   "metadata": {},
   "outputs": [],
   "source": [
    "def get_mv_or_median(x):\n",
    "    vc = x.value_counts()\n",
    "    if vc.values[0] == 1:\n",
    "        return int(np.median(x))\n",
    "    else:\n",
    "        return int(vc.index[0])"
   ]
  },
  {
   "cell_type": "code",
   "execution_count": 154,
   "metadata": {},
   "outputs": [],
   "source": [
    "def get_wawa_score(toloka_markup):\n",
    "    for_wawa = toloka_markup[['OUTPUT:is_subjective', 'ASSIGNMENT:task_id', 'ASSIGNMENT:worker_id']].rename({\n",
    "        'OUTPUT:is_subjective': 'label',\n",
    "        'ASSIGNMENT:task_id': 'task',\n",
    "        'ASSIGNMENT:worker_id': 'worker'\n",
    "    }, axis=1)\n",
    "    return Wawa().fit_predict(for_wawa)"
   ]
  },
  {
   "cell_type": "code",
   "execution_count": 155,
   "metadata": {},
   "outputs": [],
   "source": [
    "def print_unaligned_workers(scores_path, threshold=0.35):\n",
    "    toloka_markup = pd.read_csv(scores_path, sep='\\t').drop([\"GOLDEN:is_subjective\", \"HINT:text\", \"HINT:default_language\"], axis=1)\n",
    "    toloka_markup['OUTPUT:is_subjective'].replace({2: 1, 3: 2, 4: 3, 5: 3}, inplace=True)\n",
    "\n",
    "    wawa_score = get_wawa_score(toloka_markup)\n",
    "\n",
    "    worker_ids = toloka_markup.value_counts(\"ASSIGNMENT:worker_id\").index\n",
    "    worker_f1s = []\n",
    "    for worker_id in worker_ids:\n",
    "        worker_scores = toloka_markup[toloka_markup['ASSIGNMENT:worker_id'] == worker_id][['ASSIGNMENT:task_id', 'OUTPUT:is_subjective']]\n",
    "        worker_scores = worker_scores.set_index('ASSIGNMENT:task_id')\n",
    "        worker_scores['wawa'] = wawa_score[wawa_score.index.isin(worker_scores.index)]\n",
    "        worker_f1s.append(f1_score(worker_scores['wawa'], worker_scores['OUTPUT:is_subjective'], average='macro'))\n",
    "    wawa_worker_ratings = pd.Series(data=worker_f1s, index=worker_ids)\n",
    "    return wawa_worker_ratings[wawa_worker_ratings < 0.35]"
   ]
  },
  {
   "cell_type": "code",
   "execution_count": 158,
   "metadata": {},
   "outputs": [],
   "source": [
    "def print_label_distribution(scores_path):\n",
    "    toloka_markup = pd.read_csv(scores_path, sep='\\t').drop([\"GOLDEN:is_subjective\", \"HINT:text\", \"HINT:default_language\"], axis=1)\n",
    "    toloka_markup['OUTPUT:is_subjective'].replace({2: 1, 3: 2, 4: 3, 5: 3}, inplace=True)\n",
    "\n",
    "    wawa_score = get_wawa_score(toloka_markup)\n",
    "\n",
    "    vc = wawa_score.value_counts()\n",
    "    print(f\"Sentences with the 'Non-Applicable' label: {vc[0]}\")\n",
    "    print(f\"Sentences with the 'Objective' label: {vc[1]}\")\n",
    "    print(f\"Sentences with the 'Neutral' label: {vc[2]}\")\n",
    "    print(f\"Sentences with the 'Subjective' label: {vc[3]}\")"
   ]
  },
  {
   "cell_type": "code",
   "execution_count": 203,
   "metadata": {},
   "outputs": [],
   "source": [
    "def get_score_by_sentence_id(scores_path, sentence_id_retrieval_path):\n",
    "    toloka_markup = pd.read_csv(scores_path, sep='\\t').drop([\"GOLDEN:is_subjective\", \"HINT:text\", \"HINT:default_language\"], axis=1)\n",
    "    toloka_markup['OUTPUT:is_subjective'].replace({2: 1, 3: 2, 4: 3, 5: 3}, inplace=True)\n",
    "\n",
    "    sentence_ids_by_text = pd.read_csv(sentence_id_retrieval_path, sep='\\t').set_index(\"INPUT:text\")\n",
    "\n",
    "    wawa_score = get_wawa_score(toloka_markup)\n",
    "    \n",
    "    wawa_score_df = pd.DataFrame(wawa_score).rename(columns={\"agg_label\": \"score\"})\n",
    "    wawa_score_df = wawa_score_df.join(toloka_markup[[\"INPUT:text\", \"ASSIGNMENT:task_id\"]].drop_duplicates().set_index(\"ASSIGNMENT:task_id\"))\n",
    "    wawa_score_df[\"INPUT:text\"] = wawa_score_df[\"INPUT:text\"].str.replace(\"\\r\", \"\")\n",
    "    wawa_score_df = wawa_score_df.set_index(\"INPUT:text\").join(sentence_ids_by_text).reset_index().drop(\"INPUT:text\", axis=1)\n",
    "    wawa_score_df = wawa_score_df.groupby(by=\"sentence_id\")['score'].apply(get_mv_or_median).to_frame()\n",
    "\n",
    "    print(wawa_score_df.isna().value_counts())\n",
    "\n",
    "    assert wawa_score_df.isna().value_counts()[False] == len(wawa_score_df)\n",
    "\n",
    "    return wawa_score_df"
   ]
  },
  {
   "cell_type": "code",
   "execution_count": null,
   "metadata": {},
   "outputs": [],
   "source": [
    "def join_with_data_and_split(aggregated_scores, data_path):\n",
    "    data = pd.read_csv(data_path).join(aggregated_scores, on=\"sentence_id\").rename(columns={\"score\":\"is_subjective\"})\n",
    "    train_val, test = train_test_split(data, test_size=0.2, stratify=data['is_subjective'])\n",
    "    train, val = train_test_split(train_val, test_size=0.1, stratify=train_val['is_subjective'])\n"
   ]
  },
  {
   "cell_type": "code",
   "execution_count": 156,
   "metadata": {},
   "outputs": [
    {
     "data": {
      "text/plain": [
       "Series([], dtype: float64)"
      ]
     },
     "execution_count": 156,
     "metadata": {},
     "output_type": "execute_result"
    }
   ],
   "source": [
    "print_unaligned_workers(\"testing_scores.tsv\")"
   ]
  },
  {
   "cell_type": "code",
   "execution_count": 157,
   "metadata": {},
   "outputs": [
    {
     "data": {
      "text/plain": [
       "Series([], dtype: float64)"
      ]
     },
     "execution_count": 157,
     "metadata": {},
     "output_type": "execute_result"
    }
   ],
   "source": [
    "print_unaligned_workers(\"full_scores.tsv\")"
   ]
  },
  {
   "cell_type": "code",
   "execution_count": 159,
   "metadata": {},
   "outputs": [
    {
     "name": "stdout",
     "output_type": "stream",
     "text": [
      "Sentences with the 'Non-Applicable' label: 15\n",
      "Sentences with the 'Objective' label: 52\n",
      "Sentences with the 'Neutral' label: 1\n",
      "Sentences with the 'Subjective' label: 89\n"
     ]
    }
   ],
   "source": [
    "print_label_distribution(\"testing_scores.tsv\")"
   ]
  },
  {
   "cell_type": "code",
   "execution_count": 160,
   "metadata": {},
   "outputs": [
    {
     "name": "stdout",
     "output_type": "stream",
     "text": [
      "Sentences with the 'Non-Applicable' label: 1236\n",
      "Sentences with the 'Objective' label: 14222\n",
      "Sentences with the 'Neutral' label: 388\n",
      "Sentences with the 'Subjective' label: 3861\n"
     ]
    }
   ],
   "source": [
    "print_label_distribution(\"full_scores.tsv\")"
   ]
  },
  {
   "cell_type": "code",
   "execution_count": 208,
   "metadata": {},
   "outputs": [
    {
     "name": "stdout",
     "output_type": "stream",
     "text": [
      "score\n",
      "False    157\n",
      "dtype: int64\n",
      "score\n",
      "False    19707\n",
      "dtype: int64\n"
     ]
    },
    {
     "data": {
      "text/html": [
       "<div>\n",
       "<style scoped>\n",
       "    .dataframe tbody tr th:only-of-type {\n",
       "        vertical-align: middle;\n",
       "    }\n",
       "\n",
       "    .dataframe tbody tr th {\n",
       "        vertical-align: top;\n",
       "    }\n",
       "\n",
       "    .dataframe thead th {\n",
       "        text-align: right;\n",
       "    }\n",
       "</style>\n",
       "<table border=\"1\" class=\"dataframe\">\n",
       "  <thead>\n",
       "    <tr style=\"text-align: right;\">\n",
       "      <th></th>\n",
       "      <th>score</th>\n",
       "    </tr>\n",
       "    <tr>\n",
       "      <th>sentence_id</th>\n",
       "      <th></th>\n",
       "    </tr>\n",
       "  </thead>\n",
       "  <tbody>\n",
       "    <tr>\n",
       "      <th>0.0</th>\n",
       "      <td>1</td>\n",
       "    </tr>\n",
       "    <tr>\n",
       "      <th>1.0</th>\n",
       "      <td>2</td>\n",
       "    </tr>\n",
       "    <tr>\n",
       "      <th>2.0</th>\n",
       "      <td>2</td>\n",
       "    </tr>\n",
       "    <tr>\n",
       "      <th>3.0</th>\n",
       "      <td>2</td>\n",
       "    </tr>\n",
       "    <tr>\n",
       "      <th>4.0</th>\n",
       "      <td>2</td>\n",
       "    </tr>\n",
       "    <tr>\n",
       "      <th>...</th>\n",
       "      <td>...</td>\n",
       "    </tr>\n",
       "    <tr>\n",
       "      <th>19948.0</th>\n",
       "      <td>1</td>\n",
       "    </tr>\n",
       "    <tr>\n",
       "      <th>19949.0</th>\n",
       "      <td>1</td>\n",
       "    </tr>\n",
       "    <tr>\n",
       "      <th>19950.0</th>\n",
       "      <td>1</td>\n",
       "    </tr>\n",
       "    <tr>\n",
       "      <th>19951.0</th>\n",
       "      <td>1</td>\n",
       "    </tr>\n",
       "    <tr>\n",
       "      <th>19952.0</th>\n",
       "      <td>1</td>\n",
       "    </tr>\n",
       "  </tbody>\n",
       "</table>\n",
       "<p>19953 rows × 1 columns</p>\n",
       "</div>"
      ],
      "text/plain": [
       "             score\n",
       "sentence_id       \n",
       "0.0              1\n",
       "1.0              2\n",
       "2.0              2\n",
       "3.0              2\n",
       "4.0              2\n",
       "...            ...\n",
       "19948.0          1\n",
       "19949.0          1\n",
       "19950.0          1\n",
       "19951.0          1\n",
       "19952.0          1\n",
       "\n",
       "[19953 rows x 1 columns]"
      ]
     },
     "execution_count": 208,
     "metadata": {},
     "output_type": "execute_result"
    }
   ],
   "source": [
    "sample_scores = pd.read_csv(\"sample_scores.csv\").set_index(\"sentence_id\")\n",
    "testing_aggregated_scores = get_score_by_sentence_id(\"testing_scores.tsv\", \"testing_dataset_for_retrieval.tsv\")\n",
    "full_aggregated_scores = get_score_by_sentence_id(\"full_scores.tsv\", \"full_dataset_for_retrieval.tsv\")\n",
    "\n",
    "aggregated_scores = pd.concat([sample_scores, testing_aggregated_scores, full_aggregated_scores])\n",
    "aggregated_scores"
   ]
  },
  {
   "cell_type": "code",
   "execution_count": 207,
   "metadata": {},
   "outputs": [
    {
     "data": {
      "text/html": [
       "<div>\n",
       "<style scoped>\n",
       "    .dataframe tbody tr th:only-of-type {\n",
       "        vertical-align: middle;\n",
       "    }\n",
       "\n",
       "    .dataframe tbody tr th {\n",
       "        vertical-align: top;\n",
       "    }\n",
       "\n",
       "    .dataframe thead th {\n",
       "        text-align: right;\n",
       "    }\n",
       "</style>\n",
       "<table border=\"1\" class=\"dataframe\">\n",
       "  <thead>\n",
       "    <tr style=\"text-align: right;\">\n",
       "      <th></th>\n",
       "      <th>score</th>\n",
       "    </tr>\n",
       "    <tr>\n",
       "      <th>sentence_id</th>\n",
       "      <th></th>\n",
       "    </tr>\n",
       "  </thead>\n",
       "  <tbody>\n",
       "    <tr>\n",
       "      <th>246.0</th>\n",
       "      <td>3</td>\n",
       "    </tr>\n",
       "    <tr>\n",
       "      <th>247.0</th>\n",
       "      <td>3</td>\n",
       "    </tr>\n",
       "    <tr>\n",
       "      <th>248.0</th>\n",
       "      <td>2</td>\n",
       "    </tr>\n",
       "    <tr>\n",
       "      <th>249.0</th>\n",
       "      <td>3</td>\n",
       "    </tr>\n",
       "    <tr>\n",
       "      <th>250.0</th>\n",
       "      <td>3</td>\n",
       "    </tr>\n",
       "    <tr>\n",
       "      <th>...</th>\n",
       "      <td>...</td>\n",
       "    </tr>\n",
       "    <tr>\n",
       "      <th>19948.0</th>\n",
       "      <td>1</td>\n",
       "    </tr>\n",
       "    <tr>\n",
       "      <th>19949.0</th>\n",
       "      <td>1</td>\n",
       "    </tr>\n",
       "    <tr>\n",
       "      <th>19950.0</th>\n",
       "      <td>1</td>\n",
       "    </tr>\n",
       "    <tr>\n",
       "      <th>19951.0</th>\n",
       "      <td>1</td>\n",
       "    </tr>\n",
       "    <tr>\n",
       "      <th>19952.0</th>\n",
       "      <td>1</td>\n",
       "    </tr>\n",
       "  </tbody>\n",
       "</table>\n",
       "<p>19707 rows × 1 columns</p>\n",
       "</div>"
      ],
      "text/plain": [
       "             score\n",
       "sentence_id       \n",
       "246.0            3\n",
       "247.0            3\n",
       "248.0            2\n",
       "249.0            3\n",
       "250.0            3\n",
       "...            ...\n",
       "19948.0          1\n",
       "19949.0          1\n",
       "19950.0          1\n",
       "19951.0          1\n",
       "19952.0          1\n",
       "\n",
       "[19707 rows x 1 columns]"
      ]
     },
     "execution_count": 207,
     "metadata": {},
     "output_type": "execute_result"
    }
   ],
   "source": [
    "full_aggregated_scores"
   ]
  },
  {
   "cell_type": "code",
   "execution_count": 150,
   "metadata": {},
   "outputs": [],
   "source": [
    "sentence_ids_by_text = pd.read_csv(\"testing_dataset_for_retrieval.tsv\", sep='\\t').set_index(\"INPUT:text\")\n",
    "\n",
    "wawa_score_df = pd.DataFrame(wawa_score)\n",
    "wawa_score_df = wawa_score_df.join(toloka_markup[[\"INPUT:text\", \"ASSIGNMENT:task_id\"]].drop_duplicates().set_index(\"ASSIGNMENT:task_id\"))\n",
    "wawa_score_df[\"INPUT:text\"] = wawa_score_df[\"INPUT:text\"].str.replace(\"\\r\", \"\")\n",
    "wawa_score_df = wawa_score_df.set_index(\"INPUT:text\").join(sentence_ids_by_text).reset_index().drop(\"INPUT:text\", axis=1)\n",
    "wawa_score_df.groupby(by=\"sentence_id\")['agg_label'].apply(agg).to_frame().to_csv(\"testing_aggregated_scores.csv\")\n"
   ]
  },
  {
   "cell_type": "code",
   "execution_count": 138,
   "metadata": {},
   "outputs": [
    {
     "data": {
      "text/plain": [
       "agg_label  sentence_id\n",
       "False      False          20795\n",
       "dtype: int64"
      ]
     },
     "execution_count": 138,
     "metadata": {},
     "output_type": "execute_result"
    }
   ],
   "source": [
    "wawa_score_df.isna().value_counts()"
   ]
  },
  {
   "cell_type": "code",
   "execution_count": 19,
   "metadata": {},
   "outputs": [
    {
     "ename": "NameError",
     "evalue": "name 'vc' is not defined",
     "output_type": "error",
     "traceback": [
      "\u001b[0;31m---------------------------------------------------------------------------\u001b[0m",
      "\u001b[0;31mNameError\u001b[0m                                 Traceback (most recent call last)",
      "Cell \u001b[0;32mIn [19], line 1\u001b[0m\n\u001b[0;32m----> 1\u001b[0m \u001b[43mvc\u001b[49m[\u001b[38;5;241m1\u001b[39m] \u001b[38;5;241m+\u001b[39m vc[\u001b[38;5;241m2\u001b[39m]\n",
      "\u001b[0;31mNameError\u001b[0m: name 'vc' is not defined"
     ]
    }
   ],
   "source": [
    "vc[1] + vc[2]"
   ]
  },
  {
   "cell_type": "code",
   "execution_count": 104,
   "metadata": {},
   "outputs": [
    {
     "data": {
      "text/html": [
       "<div>\n",
       "<style scoped>\n",
       "    .dataframe tbody tr th:only-of-type {\n",
       "        vertical-align: middle;\n",
       "    }\n",
       "\n",
       "    .dataframe tbody tr th {\n",
       "        vertical-align: top;\n",
       "    }\n",
       "\n",
       "    .dataframe thead th {\n",
       "        text-align: right;\n",
       "    }\n",
       "</style>\n",
       "<table border=\"1\" class=\"dataframe\">\n",
       "  <thead>\n",
       "    <tr style=\"text-align: right;\">\n",
       "      <th></th>\n",
       "      <th>sentence_id</th>\n",
       "    </tr>\n",
       "    <tr>\n",
       "      <th>INPUT:text</th>\n",
       "      <th></th>\n",
       "    </tr>\n",
       "  </thead>\n",
       "  <tbody>\n",
       "    <tr>\n",
       "      <th>**Illegal Immigrants, Palestinian Refugees, and Their Liberal Cheerleaders: The Startling Similarities\\nThe Democrat, left-wing media, and progressive activists’ current freak-out over what is at least a decade-long crisis on our southern border is not just hypocritical.** Yes, these same individuals taking to the streets in ugly mobs and threatening Trump administration officials and their families were silent when children entering the country illegally were detained under Obama. In fact, in 2014, after visiting a detention center housing migrant children, Nancy Pelosi asserted that the issue should not be politicized, clearly fearing the poor optics. But the progressive reaction to the migrant issue reflects much more than liberal hypocrisy. It mirrors the liberal response to, and furthering of, inflammatory and intentionally misleading narratives regarding Palestinian refugees.</th>\n",
       "      <td>246.0</td>\n",
       "    </tr>\n",
       "    <tr>\n",
       "      <th>Illegal Immigrants, Palestinian Refugees, and Their Liberal Cheerleaders: The Startling Similarities\\nThe Democrat, left-wing media, and progressive activists’ current freak-out over what is at least a decade-long crisis on our southern border is not just hypocritical. **Yes, these same individuals taking to the streets in ugly mobs and threatening Trump administration officials and their families were silent when children entering the country illegally were detained under Obama.** In fact, in 2014, after visiting a detention center housing migrant children, Nancy Pelosi asserted that the issue should not be politicized, clearly fearing the poor optics. But the progressive reaction to the migrant issue reflects much more than liberal hypocrisy. It mirrors the liberal response to, and furthering of, inflammatory and intentionally misleading narratives regarding Palestinian refugees. Both crises represent the politicization of cultural and ethnic tragedies that seek to blame a strong horse for the wrongs of the true perpetrators of crimes against humanity.</th>\n",
       "      <td>247.0</td>\n",
       "    </tr>\n",
       "    <tr>\n",
       "      <th>Illegal Immigrants, Palestinian Refugees, and Their Liberal Cheerleaders: The Startling Similarities\\nThe Democrat, left-wing media, and progressive activists’ current freak-out over what is at least a decade-long crisis on our southern border is not just hypocritical. Yes, these same individuals taking to the streets in ugly mobs and threatening Trump administration officials and their families were silent when children entering the country illegally were detained under Obama. **In fact, in 2014, after visiting a detention center housing migrant children, Nancy Pelosi asserted that the issue should not be politicized, clearly fearing the poor optics.** But the progressive reaction to the migrant issue reflects much more than liberal hypocrisy. It mirrors the liberal response to, and furthering of, inflammatory and intentionally misleading narratives regarding Palestinian refugees. Both crises represent the politicization of cultural and ethnic tragedies that seek to blame a strong horse for the wrongs of the true perpetrators of crimes against humanity. And both crises serve as winning strategies for leftist political operatives seeking absolute power.</th>\n",
       "      <td>248.0</td>\n",
       "    </tr>\n",
       "    <tr>\n",
       "      <th>Yes, these same individuals taking to the streets in ugly mobs and threatening Trump administration officials and their families were silent when children entering the country illegally were detained under Obama. In fact, in 2014, after visiting a detention center housing migrant children, Nancy Pelosi asserted that the issue should not be politicized, clearly fearing the poor optics. **But the progressive reaction to the migrant issue reflects much more than liberal hypocrisy.** It mirrors the liberal response to, and furthering of, inflammatory and intentionally misleading narratives regarding Palestinian refugees. Both crises represent the politicization of cultural and ethnic tragedies that seek to blame a strong horse for the wrongs of the true perpetrators of crimes against humanity. And both crises serve as winning strategies for leftist political operatives seeking absolute power. Palestinians are portrayed as victims of an all-powerful government infringing on their human rights, notwithstanding their culpability and that of their “elected” leaders.</th>\n",
       "      <td>249.0</td>\n",
       "    </tr>\n",
       "    <tr>\n",
       "      <th>In fact, in 2014, after visiting a detention center housing migrant children, Nancy Pelosi asserted that the issue should not be politicized, clearly fearing the poor optics. But the progressive reaction to the migrant issue reflects much more than liberal hypocrisy. **It mirrors the liberal response to, and furthering of, inflammatory and intentionally misleading narratives regarding Palestinian refugees.** Both crises represent the politicization of cultural and ethnic tragedies that seek to blame a strong horse for the wrongs of the true perpetrators of crimes against humanity. And both crises serve as winning strategies for leftist political operatives seeking absolute power. Palestinians are portrayed as victims of an all-powerful government infringing on their human rights, notwithstanding their culpability and that of their “elected” leaders. Similarly, Democrats are using illegal immigrants as tools to demonize Republicans, intentionally fueling their ongoing war against conservatives with the specific goal of influencing the midterm elections.</th>\n",
       "      <td>250.0</td>\n",
       "    </tr>\n",
       "    <tr>\n",
       "      <th>...</th>\n",
       "      <td>...</td>\n",
       "    </tr>\n",
       "    <tr>\n",
       "      <th>Cameroonian-born French defensive midfielder Ibrahim Amadou attends a press conference during his presentation as a new Sevilla FC player in Seville, southern Spain, 04 July 2018. **Amadou has signed a contract for the next four seasons.**</th>\n",
       "      <td>19948.0</td>\n",
       "    </tr>\n",
       "    <tr>\n",
       "      <th>Cameroonian-born French defensive midfielder Ibrahim Amadou attends a press conference during his presentation as a new Sevilla FC player in Seville, southern Spain, 04 July 2018. Amadou has signed a contract for the next four seasons. **EPA-EFE/Pepo Herrera\\nSevilla FC President Jose Castro (L) and the club's director of soccer, Joaquin Caparros (R), pose with Cameroonian-born French midfielder Ibrahim Amadou (C) during his presentation as a new Sevilla FC player in Seville, southern Spain, 04 July 2018.**</th>\n",
       "      <td>19949.0</td>\n",
       "    </tr>\n",
       "    <tr>\n",
       "      <th>Amadou has signed a contract for the next four seasons. EPA-EFE/Pepo Herrera\\nSevilla FC President Jose Castro (L) and the club's director of soccer, Joaquin Caparros (R), pose with Cameroonian-born French midfielder Ibrahim Amadou (C) during his presentation as a new Sevilla FC player in Seville, southern Spain, 04 July 2018. **Amadou has signed a contract for the next four seasons.**</th>\n",
       "      <td>19950.0</td>\n",
       "    </tr>\n",
       "    <tr>\n",
       "      <th>EPA-EFE/Pepo Herrera\\nSevilla FC President Jose Castro (L) and the club's director of soccer, Joaquin Caparros (R), pose with Cameroonian-born French midfielder Ibrahim Amadou (C) during his presentation as a new Sevilla FC player in Seville, southern Spain, 04 July 2018. Amadou has signed a contract for the next four seasons. **EPA-EFE/Pepo Herrera\\nCameroonian-born French defensive midfielder Ibrahim Amadou said Wednesday upon being presented as a new player for Sevilla FC that he was thrilled to have the chance to play in the Spanish league.**</th>\n",
       "      <td>19951.0</td>\n",
       "    </tr>\n",
       "    <tr>\n",
       "      <th>Amadou has signed a contract for the next four seasons. EPA-EFE/Pepo Herrera\\nCameroonian-born French defensive midfielder Ibrahim Amadou said Wednesday upon being presented as a new player for Sevilla FC that he was thrilled to have the chance to play in the Spanish league. **The 25-year-old has signed a four-season deal and will be joining his former teammate at French club Lille, right back Sebastien Corchia.**</th>\n",
       "      <td>19952.0</td>\n",
       "    </tr>\n",
       "  </tbody>\n",
       "</table>\n",
       "<p>19707 rows × 1 columns</p>\n",
       "</div>"
      ],
      "text/plain": [
       "                                                    sentence_id\n",
       "INPUT:text                                                     \n",
       "**Illegal Immigrants, Palestinian Refugees, and...        246.0\n",
       "Illegal Immigrants, Palestinian Refugees, and T...        247.0\n",
       "Illegal Immigrants, Palestinian Refugees, and T...        248.0\n",
       "Yes, these same individuals taking to the stree...        249.0\n",
       "In fact, in 2014, after visiting a detention ce...        250.0\n",
       "...                                                         ...\n",
       "Cameroonian-born French defensive midfielder Ib...      19948.0\n",
       "Cameroonian-born French defensive midfielder Ib...      19949.0\n",
       "Amadou has signed a contract for the next four ...      19950.0\n",
       "EPA-EFE/Pepo Herrera\\nSevilla FC President Jose...      19951.0\n",
       "Amadou has signed a contract for the next four ...      19952.0\n",
       "\n",
       "[19707 rows x 1 columns]"
      ]
     },
     "execution_count": 104,
     "metadata": {},
     "output_type": "execute_result"
    }
   ],
   "source": [
    "sentence_ids_by_text\n"
   ]
  },
  {
   "cell_type": "code",
   "execution_count": 105,
   "metadata": {},
   "outputs": [
    {
     "data": {
      "text/plain": [
       "INPUT:text\n",
       "Justice Davis told the court Ms Caputo's partial admission that Ms Davoren had \"no right to the money\" had raised \"real questions\" about Ms Davoren's \"criminal responsibility for the misappropriation of the funds\". Ms Davoren spent $61,250 on a Range Rover, and $354,902 of the money remained in her bank account, the court heard. **Repayment of the money will put her account into overdraft.** The couple were in a relationship for at least 14 years, since 2001, but the exact date of their separation is in dispute, the court heard. Ms Davoren was also bookkeeper for at least one of Mr Raymond's companies, and withdrew the money via electronic banking. The court heard Ms Davoren was set to be paid $2,475,000 by Mr Raymond in a separation agreement, but this agreement was \"not enforceable\", and had been changed. Justice Davis ruled she took the $520,186 from Mr Raymond's company as \"a system of self help\" and because it was \"convenient\", when she should have left it to the court or a mediator to decide how to split the couple's assets.                                                                                                                                       1\n",
       "**This week Helen McGinn (pictured) tries Les Etoiles Rosé paired with grilled salmon\\r\\nBARGAIN OF THE WEEK\\r\\nTesco Finest Picpoul de Pinet 2016, £6.50 (normally £7)\\r\\nI Love this perfect summer white from vineyards near the coast in the Languedoc, with its fresh, crisp green apple fruit.**                                                                                                                                                                                                                                                                                                                                                                                                                                                                                                                                                                                                                                                                                                                                                                                                                                                                                                                       5\n",
       "Europe will press China to remain, after the country recently argued it never agreed to join the first phase, according to sources who spoke on condition of anonymity about the private talks. \"In the months to come, Europe together with its ICAO partners, will work with China to find ways to address China's concerns without undermining (the deal's) environmental integrity in order to keep this important aviation country on board,\" a European Union source said on Tuesday. **The Civil Aviation Administration of China and ICAO did not respond to requests for comment.** In 2016, China and the United States pledged support for the deal, with both countries saying they expect \"to be early participants.\" A second source said China is likely distancing itself as a negotiating tactic. Talks are expected this fall over which environmental projects will be available to airlines for purchase as offset credits. China wants its domestic projects to be eligible, the source said.                                                                                                                                                                                                           1\n",
       "The semi-circle landscape, flying butterflies and acrobatics of dolphins and you donning a gorgeous bikini, doesn’t it make a picture perfect scene? Kadmat Beach, Lakshadweep\\r\\nLocated in Lakshadweep, Kadmat Beach is surrounded by large lagoons from both Eastern and Western side and gorgeous beaches. **The beach is perfect for those who want to unwind completely.** So what are you waiting for? Take a break from your hectic schedule and spend your vacation sunbathing in your favourite bikini. Radhanagar Beach, Havelock Island\\r\\nSituated in the Havelock Island in Andaman, Radhanagar Beach is known for its beauty and sunsets. The beach is also known as Beach Number 7.                                                                                                                                                                                                                                                                                                                                                                                                                                                                                                                          1\n",
       "The wider ambition, said Cook, is to become a household name in European investment, just as venture capital firms such as Sequoia are in the US. “Our entire strategy is that Europe is going through the same spurt that Silicon Valley went through in the 1990s, when [VC firms] Sequoia and DFJ raised funds of about $150 million then… scaled up and got to a billion-plus and continued to be household names,” he said. **“The top 20 [US] funds get 50% of the capital.** We believe Europe is going through the same thing, it’s all about those firms that can scale up to be a billion-plus.”\\r\\nThat might mean further regional partnerships down the line, though Cook said there were no immediate plans. Draper already acquired seed investor Seedcamp’s first two funds and backed early-stage UK investor Episode 1. “We’ve always been an acquisitive group,” said Cook. “We bought Seedcamp, now there’s Earlybird, and we entered France by ourselves.                                                                                                                                                                                                                                               1\n",
       "                                                                                                                                                                                                                                                                                                                                                                                                                                                                                                                                                                                                                                                                                                                                                                                                                                                                                                                                                                                                                                                                                                                                                                                                                            ..\n",
       "US President Donald Trump reportedly wanted to address the crisis by mounting a US invasion and deposing President Nicolas Maduro. Sources say his aides told him that an invasion was a terrible idea, but Trump persisted, and even floated the plan with neighboring countries. **Trump’s bullish rhetoric is likely going to bolster Maduro’s standing at home.** Donald Trump reportedly asked senior administration officials and world leaders if the US could invade Venezuela to bring stability to the country’s political crisis. The US president first asked aides whether the US could just take over the country on August 10, 2017, at an Oval Office meeting to discuss US sanctions on the country, according to the Associated Press. The backdrop was the South American nation’s rapidly deteriorating economy, and the perilous state of law and order there. The previously undisclosed meeting, on which the White House has declined to comment, was anonymously revealed by a senior administration official speaking to AP.                                                                                                                                                                       0\n",
       "Mr Field received the Royal College of Nursing (RCNi) special recognition award at Park Plaza in London. He was chosen from more than 700 entries for his work at Buckley Amateur Boxing Club to give young people a secure environment to manage their mental health issues. **'Above and beyond'\\r\\nMr Field and his team encourage young people with ADHD, bipolar and depression to use the sport to overcome issues such as low confidence and self-esteem.** Rachel Armitage, managing director at RCNi, described him as \"a magnificent example of a nurse who has gone above and beyond in his specialism\" and said she hopes he inspires others to consider a career in nursing. Image caption Buckley Amateur Boxing Club helps young people with mental health problems\\r\\nWhile he has been at the club, Mr Field said many of the more than 200 members had found boxing helped them cope with a range of emotional and psychological issues. He was diagnosed with depression and bipolar himself when he was forced to quit boxing 23 years ago when a cyst was discovered on his brain. Mr Field went back to university, trained as a psychiatric nurse and now works in adult mental health in Chester.    1\n",
       "Erdogan will be sworn at the parliament, a presidential source, who asked not to be named, told AFP. State media reports said the oath ceremony would be at 1300 GMT. **Two hours later a \"transition ceremony\" marking the shift to the new system will take place at his vast presidential palace on the outskirts of Ankara, Anadolu news agency reported.** The Turkish leader is expected to deliver a speech during the ceremony to be attended by leading figures from the business, art and sports as well as foreign heads of state, according to the Hurriyet daily. The ceremony will be followed by a dinner and then Erdogan is due to announce his new cabinet, it said. Under the new system, Erdogan will enjoy greater powers with the authority to appoint and sack ministers, judges and other state officials. The post of prime minister, currently held by Erdogan's ally Binali Yildirim, is to be scrapped as of Monday, leaving the president in full and sole charge of the government.                                                                                                                                                                                                            1\n",
       "[Kelvin Karani, Standard]\\r\\nFour police officers linked to the murder of British aristocrat Alexander Monson six years ago yesterday failed to appear before the High Court in Mombasa. Naftali Chege, Charles Munyiri, John Pamba and Ismael Baraka, through their lawyers Abdulrahman Aminga and Pascal Nabwana, asked Justice Erick Ogola to allow them to report to court today because they got the summons late. **ALSO READ: Boy, 9 killed in daring robbery targeting pastors\\r\\nDelayed summonses\\r\\nState Principal Prosecutor Alex Jamii admitted that they did not issue summons to the officers on Friday as had been ordered by the court following an application by the Director of Public Prosecution to have the suspects brought to court yesterday.** Justice Ogola ordered the suspects to appear before the court today to take a plea on the charges of murder that they are facing. Monson, who was the heir to Monson baronetcy, died at Diani Palm Hospital where police officers from Diani Police Station had brought him chained. He had been being detained at the police station on claims he had smoked marijuana. Police told a Kwale court he had died of drug overdose.                  1\n",
       "The Central Bureau of Investigation (CBI) may not withdraw the look out circular against K C Chakrabarty, former deputy governor at Reserve Bank of India, for some time as investigation in a forgery case continues. The CBI had issued the LOC in connection with a 2016 forgery case filed by the Indian Overseas Bank against a Delhi-based travel company — Airworth Travels & Tours Pvt Limited, its promoters and ‘unnamed public servants’. **CBI sources said he has been questioned by the CBI in Indian Overseas Bank case.** The probe is not complete yet and he is not allowed to leave India, the sources said. Sources familiar with the developments said Chakrabarty wants to resolve the issue amicably. The bank has accused them of “…cheating, forgery of valuable securities, forgery for the purpose of cheating, using forged documents as genuine…” and public servants of “abuse of official position”, thereby dishonestly causing a loss. A look out circular is used to monitor and prevent the entry or exit of persons who may be required by law enforcement authorities.                                                                                                                  1\n",
       "Name: agg_label, Length: 19279, dtype: int64"
      ]
     },
     "execution_count": 105,
     "metadata": {},
     "output_type": "execute_result"
    }
   ],
   "source": [
    "wawa_score_by_text = toloka_markup.set_index(\"ASSIGNMENT:task_id\").join(wawa_score).set_index(\"INPUT:text\")['agg_label']\n",
    "wawa_score_by_text = wawa_score_by_text[~wawa_score_by_text.index.duplicated(keep='first')]\n",
    "wawa_score_by_text"
   ]
  },
  {
   "cell_type": "code",
   "execution_count": null,
   "metadata": {},
   "outputs": [],
   "source": []
  }
 ],
 "metadata": {
  "kernelspec": {
   "display_name": "Python 3.10.8 64-bit",
   "language": "python",
   "name": "python3"
  },
  "language_info": {
   "codemirror_mode": {
    "name": "ipython",
    "version": 3
   },
   "file_extension": ".py",
   "mimetype": "text/x-python",
   "name": "python",
   "nbconvert_exporter": "python",
   "pygments_lexer": "ipython3",
   "version": "3.10.8"
  },
  "orig_nbformat": 4,
  "vscode": {
   "interpreter": {
    "hash": "aee8b7b246df8f9039afb4144a1f6fd8d2ca17a180786b69acc140d282b71a49"
   }
  }
 },
 "nbformat": 4,
 "nbformat_minor": 2
}
