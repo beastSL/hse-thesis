{
 "cells": [
  {
   "cell_type": "code",
   "execution_count": 71,
   "metadata": {},
   "outputs": [],
   "source": [
    "import pandas as pd\n",
    "from io import StringIO"
   ]
  },
  {
   "cell_type": "code",
   "execution_count": 91,
   "metadata": {},
   "outputs": [],
   "source": [
    "def read_csv_file(file_path):\n",
    "    data = pd.DataFrame([])\n",
    "    with open(file_path, 'r', encoding='ISO-8859-1') as fin:\n",
    "        for line in fin.readlines():\n",
    "            values = line.strip().split('\\t')\n",
    "            score = float(values[4])\n",
    "            sent1 = values[5]\n",
    "            sent2 = values[6]\n",
    "            data = pd.concat([data, pd.DataFrame({\"text\": (sent1 + ' ' + sent2).replace('\"', ''), \"score\": score}, index=[0])]).reset_index(drop=True)\n",
    "    return data"
   ]
  },
  {
   "cell_type": "code",
   "execution_count": 94,
   "metadata": {},
   "outputs": [],
   "source": [
    "read_csv_file(\"sts-train.csv\").to_csv(\"train.csv\", index=False)\n",
    "read_csv_file(\"sts-dev.csv\").to_csv(\"val.csv\", index=False)\n",
    "read_csv_file(\"sts-test.csv\").to_csv(\"test.csv\", index=False)"
   ]
  }
 ],
 "metadata": {
  "kernelspec": {
   "display_name": "Python 3.6.9 64-bit",
   "language": "python",
   "name": "python3"
  },
  "language_info": {
   "codemirror_mode": {
    "name": "ipython",
    "version": 3
   },
   "file_extension": ".py",
   "mimetype": "text/x-python",
   "name": "python",
   "nbconvert_exporter": "python",
   "pygments_lexer": "ipython3",
   "version": "3.6.9"
  },
  "orig_nbformat": 4,
  "vscode": {
   "interpreter": {
    "hash": "31f2aee4e71d21fbe5cf8b01ff0e069b9275f58929596ceb00d14d90e3e16cd6"
   }
  }
 },
 "nbformat": 4,
 "nbformat_minor": 2
}
