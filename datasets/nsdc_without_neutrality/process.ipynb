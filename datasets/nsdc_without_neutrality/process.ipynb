{
 "cells": [
  {
   "cell_type": "code",
   "execution_count": 28,
   "metadata": {},
   "outputs": [],
   "source": [
    "import pandas as pd\n",
    "import numpy as np\n",
    "from sklearn.model_selection import train_test_split"
   ]
  },
  {
   "cell_type": "code",
   "execution_count": 29,
   "metadata": {},
   "outputs": [],
   "source": [
    "def remove_neutrality(file):\n",
    "    df = pd.read_csv(f'../nsdc/{file}') \n",
    "    df = df[df['score'] != 2]\n",
    "    df.to_csv(file)"
   ]
  },
  {
   "cell_type": "code",
   "execution_count": null,
   "metadata": {},
   "outputs": [],
   "source": [
    "remove_neutrality('train.csv')\n",
    "remove_neutrality('val.csv')\n",
    "remove_neutrality('test.csv')"
   ]
  },
  {
   "cell_type": "code",
   "execution_count": 30,
   "metadata": {},
   "outputs": [],
   "source": [
    "train_val, test = train_test_split(data, test_size=0.2, shuffle=False)\n",
    "train, val = train_test_split(train_val, test_size=0.1, shuffle=False)"
   ]
  },
  {
   "cell_type": "code",
   "execution_count": 31,
   "metadata": {},
   "outputs": [
    {
     "data": {
      "text/html": [
       "<div>\n",
       "<style scoped>\n",
       "    .dataframe tbody tr th:only-of-type {\n",
       "        vertical-align: middle;\n",
       "    }\n",
       "\n",
       "    .dataframe tbody tr th {\n",
       "        vertical-align: top;\n",
       "    }\n",
       "\n",
       "    .dataframe thead th {\n",
       "        text-align: right;\n",
       "    }\n",
       "</style>\n",
       "<table border=\"1\" class=\"dataframe\">\n",
       "  <thead>\n",
       "    <tr style=\"text-align: right;\">\n",
       "      <th></th>\n",
       "      <th>task</th>\n",
       "      <th>score</th>\n",
       "      <th>domain</th>\n",
       "      <th>date</th>\n",
       "      <th>text</th>\n",
       "      <th>paper_id</th>\n",
       "    </tr>\n",
       "  </thead>\n",
       "  <tbody>\n",
       "    <tr>\n",
       "      <th>2389</th>\n",
       "      <td>0.0</td>\n",
       "      <td>1</td>\n",
       "      <td>www.ekathimerini.com</td>\n",
       "      <td>2018-07-25 00:00:00</td>\n",
       "      <td>The leaders of Greece, Bulgaria, Romania and S...</td>\n",
       "      <td>421969</td>\n",
       "    </tr>\n",
       "    <tr>\n",
       "      <th>2037</th>\n",
       "      <td>1.0</td>\n",
       "      <td>1</td>\n",
       "      <td>www.ekathimerini.com</td>\n",
       "      <td>2018-07-25 00:00:00</td>\n",
       "      <td>The prospects of the Western Balkans joining t...</td>\n",
       "      <td>421969</td>\n",
       "    </tr>\n",
       "    <tr>\n",
       "      <th>7710</th>\n",
       "      <td>2.0</td>\n",
       "      <td>1</td>\n",
       "      <td>www.ekathimerini.com</td>\n",
       "      <td>2018-07-25 00:00:00</td>\n",
       "      <td>Prime ministers Alexis Tsipras of Greece, Boyk...</td>\n",
       "      <td>421969</td>\n",
       "    </tr>\n",
       "    <tr>\n",
       "      <th>11034</th>\n",
       "      <td>3.0</td>\n",
       "      <td>1</td>\n",
       "      <td>www.ekathimerini.com</td>\n",
       "      <td>2018-07-25 00:00:00</td>\n",
       "      <td>The refugee crisis is also expected to be a to...</td>\n",
       "      <td>421969</td>\n",
       "    </tr>\n",
       "    <tr>\n",
       "      <th>1865</th>\n",
       "      <td>6.0</td>\n",
       "      <td>1</td>\n",
       "      <td>www.ekathimerini.com</td>\n",
       "      <td>2018-07-25 00:00:00</td>\n",
       "      <td>The meeting is also expected to help push a nu...</td>\n",
       "      <td>421969</td>\n",
       "    </tr>\n",
       "    <tr>\n",
       "      <th>...</th>\n",
       "      <td>...</td>\n",
       "      <td>...</td>\n",
       "      <td>...</td>\n",
       "      <td>...</td>\n",
       "      <td>...</td>\n",
       "      <td>...</td>\n",
       "    </tr>\n",
       "    <tr>\n",
       "      <th>10085</th>\n",
       "      <td>14308.0</td>\n",
       "      <td>1</td>\n",
       "      <td>www.nzherald.co.nz</td>\n",
       "      <td>2018-07-05 00:00:00</td>\n",
       "      <td>Counties Manukau DHB declined to comment.</td>\n",
       "      <td>79651</td>\n",
       "    </tr>\n",
       "    <tr>\n",
       "      <th>10952</th>\n",
       "      <td>14309.0</td>\n",
       "      <td>1</td>\n",
       "      <td>www.nzherald.co.nz</td>\n",
       "      <td>2018-07-05 00:00:00</td>\n",
       "      <td>The Middlemore report also noted police had de...</td>\n",
       "      <td>79651</td>\n",
       "    </tr>\n",
       "    <tr>\n",
       "      <th>3216</th>\n",
       "      <td>14310.0</td>\n",
       "      <td>1</td>\n",
       "      <td>www.nzherald.co.nz</td>\n",
       "      <td>2018-07-05 00:00:00</td>\n",
       "      <td>Counties Manukau Senior Sergeant Laurie Culpan...</td>\n",
       "      <td>79651</td>\n",
       "    </tr>\n",
       "    <tr>\n",
       "      <th>2738</th>\n",
       "      <td>14311.0</td>\n",
       "      <td>1</td>\n",
       "      <td>www.nzherald.co.nz</td>\n",
       "      <td>2018-07-05 00:00:00</td>\n",
       "      <td>\"It allows them to be prepared for that person...</td>\n",
       "      <td>79651</td>\n",
       "    </tr>\n",
       "    <tr>\n",
       "      <th>7327</th>\n",
       "      <td>14312.0</td>\n",
       "      <td>1</td>\n",
       "      <td>www.nzherald.co.nz</td>\n",
       "      <td>2018-07-05 00:00:00</td>\n",
       "      <td>Powell said some resident doctors believed agg...</td>\n",
       "      <td>79651</td>\n",
       "    </tr>\n",
       "  </tbody>\n",
       "</table>\n",
       "<p>13200 rows × 6 columns</p>\n",
       "</div>"
      ],
      "text/plain": [
       "          task  score                domain                 date  \\\n",
       "2389       0.0      1  www.ekathimerini.com  2018-07-25 00:00:00   \n",
       "2037       1.0      1  www.ekathimerini.com  2018-07-25 00:00:00   \n",
       "7710       2.0      1  www.ekathimerini.com  2018-07-25 00:00:00   \n",
       "11034      3.0      1  www.ekathimerini.com  2018-07-25 00:00:00   \n",
       "1865       6.0      1  www.ekathimerini.com  2018-07-25 00:00:00   \n",
       "...        ...    ...                   ...                  ...   \n",
       "10085  14308.0      1    www.nzherald.co.nz  2018-07-05 00:00:00   \n",
       "10952  14309.0      1    www.nzherald.co.nz  2018-07-05 00:00:00   \n",
       "3216   14310.0      1    www.nzherald.co.nz  2018-07-05 00:00:00   \n",
       "2738   14311.0      1    www.nzherald.co.nz  2018-07-05 00:00:00   \n",
       "7327   14312.0      1    www.nzherald.co.nz  2018-07-05 00:00:00   \n",
       "\n",
       "                                                    text  paper_id  \n",
       "2389   The leaders of Greece, Bulgaria, Romania and S...    421969  \n",
       "2037   The prospects of the Western Balkans joining t...    421969  \n",
       "7710   Prime ministers Alexis Tsipras of Greece, Boyk...    421969  \n",
       "11034  The refugee crisis is also expected to be a to...    421969  \n",
       "1865   The meeting is also expected to help push a nu...    421969  \n",
       "...                                                  ...       ...  \n",
       "10085          Counties Manukau DHB declined to comment.     79651  \n",
       "10952  The Middlemore report also noted police had de...     79651  \n",
       "3216   Counties Manukau Senior Sergeant Laurie Culpan...     79651  \n",
       "2738   \"It allows them to be prepared for that person...     79651  \n",
       "7327   Powell said some resident doctors believed agg...     79651  \n",
       "\n",
       "[13200 rows x 6 columns]"
      ]
     },
     "execution_count": 31,
     "metadata": {},
     "output_type": "execute_result"
    }
   ],
   "source": [
    "train"
   ]
  },
  {
   "cell_type": "code",
   "execution_count": 43,
   "metadata": {},
   "outputs": [],
   "source": [
    "def get_dataset_with_context(df):\n",
    "    texts = df['text'].values\n",
    "    ids = df['task'].values\n",
    "    paper_ids = df['paper_id'].values\n",
    "    res_texts = []\n",
    "    for i in range(len(texts)):\n",
    "        text = ''\n",
    "        if i != 0 and ids[i - 1] == ids[i] - 1 and paper_ids[i - 1] == paper_ids[i]:\n",
    "            text += texts[i - 1] + ' '\n",
    "        text += texts[i]\n",
    "        if i < len(texts) - 1 and ids[i + 1] == ids[i] + 1 and paper_ids[i + 1] == paper_ids[i]:\n",
    "            text += ' ' + texts[i + 1]\n",
    "        res_texts.append(text)\n",
    "    df['text'] = res_texts\n",
    "    return df"
   ]
  },
  {
   "cell_type": "code",
   "execution_count": 46,
   "metadata": {},
   "outputs": [
    {
     "name": "stderr",
     "output_type": "stream",
     "text": [
      "/root/.local/lib/python3.6/site-packages/ipykernel_launcher.py:14: SettingWithCopyWarning: \n",
      "A value is trying to be set on a copy of a slice from a DataFrame.\n",
      "Try using .loc[row_indexer,col_indexer] = value instead\n",
      "\n",
      "See the caveats in the documentation: https://pandas.pydata.org/pandas-docs/stable/user_guide/indexing.html#returning-a-view-versus-a-copy\n",
      "  \n"
     ]
    }
   ],
   "source": [
    "get_dataset_with_context(train).to_csv('train.csv')\n",
    "get_dataset_with_context(val).to_csv('val.csv')\n",
    "get_dataset_with_context(test).to_csv('test.csv')"
   ]
  },
  {
   "cell_type": "code",
   "execution_count": null,
   "metadata": {},
   "outputs": [],
   "source": []
  }
 ],
 "metadata": {
  "kernelspec": {
   "display_name": "Python 3.6.9 64-bit",
   "language": "python",
   "name": "python3"
  },
  "language_info": {
   "codemirror_mode": {
    "name": "ipython",
    "version": 3
   },
   "file_extension": ".py",
   "mimetype": "text/x-python",
   "name": "python",
   "nbconvert_exporter": "python",
   "pygments_lexer": "ipython3",
   "version": "3.6.9"
  },
  "orig_nbformat": 4,
  "vscode": {
   "interpreter": {
    "hash": "31f2aee4e71d21fbe5cf8b01ff0e069b9275f58929596ceb00d14d90e3e16cd6"
   }
  }
 },
 "nbformat": 4,
 "nbformat_minor": 2
}
